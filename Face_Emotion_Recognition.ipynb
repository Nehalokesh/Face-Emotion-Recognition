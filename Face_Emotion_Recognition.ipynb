{
  "cells": [
    {
      "cell_type": "markdown",
      "metadata": {
        "id": "view-in-github",
        "colab_type": "text"
      },
      "source": [
        "<a href=\"https://colab.research.google.com/github/Nehalokesh/Face-Emotion-Recognition/blob/main/Face_Emotion_Recognition.ipynb\" target=\"_parent\"><img src=\"https://colab.research.google.com/assets/colab-badge.svg\" alt=\"Open In Colab\"/></a>"
      ]
    },
    {
      "cell_type": "markdown",
      "metadata": {
        "id": "Qr7yCsAalt9V"
      },
      "source": [
        "# **Import Library**"
      ]
    },
    {
      "cell_type": "code",
      "execution_count": null,
      "metadata": {
        "colab": {
          "base_uri": "https://localhost:8080/"
        },
        "id": "XgpyGVMBNnlu",
        "outputId": "689a777b-9dfc-4e52-b865-0f052590f2ed"
      },
      "outputs": [
        {
          "output_type": "stream",
          "name": "stdout",
          "text": [
            "Requirement already satisfied: matplotlib-venn in /usr/local/lib/python3.7/dist-packages (0.11.6)\n",
            "Requirement already satisfied: scipy in /usr/local/lib/python3.7/dist-packages (from matplotlib-venn) (1.4.1)\n",
            "Requirement already satisfied: numpy in /usr/local/lib/python3.7/dist-packages (from matplotlib-venn) (1.21.5)\n",
            "Requirement already satisfied: matplotlib in /usr/local/lib/python3.7/dist-packages (from matplotlib-venn) (3.2.2)\n",
            "Requirement already satisfied: kiwisolver>=1.0.1 in /usr/local/lib/python3.7/dist-packages (from matplotlib->matplotlib-venn) (1.4.0)\n",
            "Requirement already satisfied: cycler>=0.10 in /usr/local/lib/python3.7/dist-packages (from matplotlib->matplotlib-venn) (0.11.0)\n",
            "Requirement already satisfied: python-dateutil>=2.1 in /usr/local/lib/python3.7/dist-packages (from matplotlib->matplotlib-venn) (2.8.2)\n",
            "Requirement already satisfied: pyparsing!=2.0.4,!=2.1.2,!=2.1.6,>=2.0.1 in /usr/local/lib/python3.7/dist-packages (from matplotlib->matplotlib-venn) (3.0.7)\n",
            "Requirement already satisfied: typing-extensions in /usr/local/lib/python3.7/dist-packages (from kiwisolver>=1.0.1->matplotlib->matplotlib-venn) (3.10.0.2)\n",
            "Requirement already satisfied: six>=1.5 in /usr/local/lib/python3.7/dist-packages (from python-dateutil>=2.1->matplotlib->matplotlib-venn) (1.15.0)\n"
          ]
        }
      ],
      "source": [
        "!pip install matplotlib-venn"
      ]
    },
    {
      "cell_type": "code",
      "execution_count": null,
      "metadata": {
        "colab": {
          "base_uri": "https://localhost:8080/"
        },
        "id": "kRwGCKwXNzko",
        "outputId": "504a57f4-ac78-452d-f814-956a3e67633c"
      },
      "outputs": [
        {
          "output_type": "stream",
          "name": "stdout",
          "text": [
            "Selecting previously unselected package libfluidsynth1:amd64.\n",
            "(Reading database ... 156210 files and directories currently installed.)\n",
            "Preparing to unpack .../libfluidsynth1_1.1.9-1_amd64.deb ...\n",
            "Unpacking libfluidsynth1:amd64 (1.1.9-1) ...\n",
            "Setting up libfluidsynth1:amd64 (1.1.9-1) ...\n",
            "Processing triggers for libc-bin (2.27-3ubuntu1.3) ...\n",
            "/sbin/ldconfig.real: /usr/local/lib/python3.7/dist-packages/ideep4py/lib/libmkldnn.so.0 is not a symbolic link\n",
            "\n"
          ]
        }
      ],
      "source": [
        "!apt-get -qq install -y libfluidsynth1"
      ]
    },
    {
      "cell_type": "code",
      "execution_count": null,
      "metadata": {
        "id": "g5jWq7gMcuUA"
      },
      "outputs": [],
      "source": [
        "import pandas as pd\n",
        "import numpy as np\n",
        "import os\n",
        "import matplotlib.pyplot as plt\n",
        "import seaborn as sns\n",
        "import warnings\n",
        "import random\n",
        "from tqdm.notebook import tqdm\n",
        "warnings.filterwarnings('ignore')\n",
        "%matplotlib inline\n",
        "\n",
        "import tensorflow as tf\n",
        "from tensorflow.keras.utils import to_categorical\n",
        "from keras.preprocessing.image import load_img\n",
        "from keras.models import Sequential\n",
        "from keras.layers import Dense, Conv2D, Dropout, Flatten, MaxPooling2D"
      ]
    },
    {
      "cell_type": "markdown",
      "metadata": {
        "id": "f_U1PcH5mOsS"
      },
      "source": [
        "# **Load the Dataset**"
      ]
    },
    {
      "cell_type": "code",
      "execution_count": null,
      "metadata": {
        "id": "-XtnFrOkmWVC"
      },
      "outputs": [],
      "source": [
        "TRAIN_DIR ='/content/drive/MyDrive/Almabetter/Module 7/Capstone Project /train.zip (Unzipped Files)/train/'\n",
        "TEST_DIR = '/content/drive/MyDrive/Almabetter/Module 7/Capstone Project /test.zip (Unzipped Files)/test/'\n"
      ]
    },
    {
      "cell_type": "code",
      "execution_count": null,
      "metadata": {
        "id": "hm6Xy2gy6lUE"
      },
      "outputs": [],
      "source": [
        "def load_dataset(directory):\n",
        "  image_paths = []\n",
        "  labels = []\n",
        "\n",
        "  for label in os.listdir(directory):\n",
        "    for  filename in os.listdir(directory+label):\n",
        "      image_path = os.path.join(directory, label, filename)\n",
        "      image_paths.append(image_path)\n",
        "      labels.append(label)\n",
        "\n",
        "    print(label, \"completed\")\n",
        "\n",
        "  return image_paths, labels"
      ]
    },
    {
      "cell_type": "code",
      "execution_count": null,
      "metadata": {
        "colab": {
          "base_uri": "https://localhost:8080/",
          "height": 333
        },
        "id": "id6ZxOuN8tdq",
        "outputId": "1f6f2c89-8f04-4dc4-9905-0cb933662572"
      },
      "outputs": [
        {
          "output_type": "stream",
          "name": "stdout",
          "text": [
            "angry completed\n",
            "disgust completed\n",
            "fear completed\n",
            "happy completed\n",
            "neutral completed\n",
            "sad completed\n",
            "surprise completed\n"
          ]
        },
        {
          "output_type": "execute_result",
          "data": {
            "text/plain": [
              "                                               image    label\n",
              "0  /content/drive/MyDrive/Almabetter/Module 7/Cap...    happy\n",
              "1  /content/drive/MyDrive/Almabetter/Module 7/Cap...    angry\n",
              "2  /content/drive/MyDrive/Almabetter/Module 7/Cap...    happy\n",
              "3  /content/drive/MyDrive/Almabetter/Module 7/Cap...      sad\n",
              "4  /content/drive/MyDrive/Almabetter/Module 7/Cap...  neutral"
            ],
            "text/html": [
              "\n",
              "  <div id=\"df-e4e758b0-0a80-4ef5-917e-c32c1cf12a01\">\n",
              "    <div class=\"colab-df-container\">\n",
              "      <div>\n",
              "<style scoped>\n",
              "    .dataframe tbody tr th:only-of-type {\n",
              "        vertical-align: middle;\n",
              "    }\n",
              "\n",
              "    .dataframe tbody tr th {\n",
              "        vertical-align: top;\n",
              "    }\n",
              "\n",
              "    .dataframe thead th {\n",
              "        text-align: right;\n",
              "    }\n",
              "</style>\n",
              "<table border=\"1\" class=\"dataframe\">\n",
              "  <thead>\n",
              "    <tr style=\"text-align: right;\">\n",
              "      <th></th>\n",
              "      <th>image</th>\n",
              "      <th>label</th>\n",
              "    </tr>\n",
              "  </thead>\n",
              "  <tbody>\n",
              "    <tr>\n",
              "      <th>0</th>\n",
              "      <td>/content/drive/MyDrive/Almabetter/Module 7/Cap...</td>\n",
              "      <td>happy</td>\n",
              "    </tr>\n",
              "    <tr>\n",
              "      <th>1</th>\n",
              "      <td>/content/drive/MyDrive/Almabetter/Module 7/Cap...</td>\n",
              "      <td>angry</td>\n",
              "    </tr>\n",
              "    <tr>\n",
              "      <th>2</th>\n",
              "      <td>/content/drive/MyDrive/Almabetter/Module 7/Cap...</td>\n",
              "      <td>happy</td>\n",
              "    </tr>\n",
              "    <tr>\n",
              "      <th>3</th>\n",
              "      <td>/content/drive/MyDrive/Almabetter/Module 7/Cap...</td>\n",
              "      <td>sad</td>\n",
              "    </tr>\n",
              "    <tr>\n",
              "      <th>4</th>\n",
              "      <td>/content/drive/MyDrive/Almabetter/Module 7/Cap...</td>\n",
              "      <td>neutral</td>\n",
              "    </tr>\n",
              "  </tbody>\n",
              "</table>\n",
              "</div>\n",
              "      <button class=\"colab-df-convert\" onclick=\"convertToInteractive('df-e4e758b0-0a80-4ef5-917e-c32c1cf12a01')\"\n",
              "              title=\"Convert this dataframe to an interactive table.\"\n",
              "              style=\"display:none;\">\n",
              "        \n",
              "  <svg xmlns=\"http://www.w3.org/2000/svg\" height=\"24px\"viewBox=\"0 0 24 24\"\n",
              "       width=\"24px\">\n",
              "    <path d=\"M0 0h24v24H0V0z\" fill=\"none\"/>\n",
              "    <path d=\"M18.56 5.44l.94 2.06.94-2.06 2.06-.94-2.06-.94-.94-2.06-.94 2.06-2.06.94zm-11 1L8.5 8.5l.94-2.06 2.06-.94-2.06-.94L8.5 2.5l-.94 2.06-2.06.94zm10 10l.94 2.06.94-2.06 2.06-.94-2.06-.94-.94-2.06-.94 2.06-2.06.94z\"/><path d=\"M17.41 7.96l-1.37-1.37c-.4-.4-.92-.59-1.43-.59-.52 0-1.04.2-1.43.59L10.3 9.45l-7.72 7.72c-.78.78-.78 2.05 0 2.83L4 21.41c.39.39.9.59 1.41.59.51 0 1.02-.2 1.41-.59l7.78-7.78 2.81-2.81c.8-.78.8-2.07 0-2.86zM5.41 20L4 18.59l7.72-7.72 1.47 1.35L5.41 20z\"/>\n",
              "  </svg>\n",
              "      </button>\n",
              "      \n",
              "  <style>\n",
              "    .colab-df-container {\n",
              "      display:flex;\n",
              "      flex-wrap:wrap;\n",
              "      gap: 12px;\n",
              "    }\n",
              "\n",
              "    .colab-df-convert {\n",
              "      background-color: #E8F0FE;\n",
              "      border: none;\n",
              "      border-radius: 50%;\n",
              "      cursor: pointer;\n",
              "      display: none;\n",
              "      fill: #1967D2;\n",
              "      height: 32px;\n",
              "      padding: 0 0 0 0;\n",
              "      width: 32px;\n",
              "    }\n",
              "\n",
              "    .colab-df-convert:hover {\n",
              "      background-color: #E2EBFA;\n",
              "      box-shadow: 0px 1px 2px rgba(60, 64, 67, 0.3), 0px 1px 3px 1px rgba(60, 64, 67, 0.15);\n",
              "      fill: #174EA6;\n",
              "    }\n",
              "\n",
              "    [theme=dark] .colab-df-convert {\n",
              "      background-color: #3B4455;\n",
              "      fill: #D2E3FC;\n",
              "    }\n",
              "\n",
              "    [theme=dark] .colab-df-convert:hover {\n",
              "      background-color: #434B5C;\n",
              "      box-shadow: 0px 1px 3px 1px rgba(0, 0, 0, 0.15);\n",
              "      filter: drop-shadow(0px 1px 2px rgba(0, 0, 0, 0.3));\n",
              "      fill: #FFFFFF;\n",
              "    }\n",
              "  </style>\n",
              "\n",
              "      <script>\n",
              "        const buttonEl =\n",
              "          document.querySelector('#df-e4e758b0-0a80-4ef5-917e-c32c1cf12a01 button.colab-df-convert');\n",
              "        buttonEl.style.display =\n",
              "          google.colab.kernel.accessAllowed ? 'block' : 'none';\n",
              "\n",
              "        async function convertToInteractive(key) {\n",
              "          const element = document.querySelector('#df-e4e758b0-0a80-4ef5-917e-c32c1cf12a01');\n",
              "          const dataTable =\n",
              "            await google.colab.kernel.invokeFunction('convertToInteractive',\n",
              "                                                     [key], {});\n",
              "          if (!dataTable) return;\n",
              "\n",
              "          const docLinkHtml = 'Like what you see? Visit the ' +\n",
              "            '<a target=\"_blank\" href=https://colab.research.google.com/notebooks/data_table.ipynb>data table notebook</a>'\n",
              "            + ' to learn more about interactive tables.';\n",
              "          element.innerHTML = '';\n",
              "          dataTable['output_type'] = 'display_data';\n",
              "          await google.colab.output.renderOutput(dataTable, element);\n",
              "          const docLink = document.createElement('div');\n",
              "          docLink.innerHTML = docLinkHtml;\n",
              "          element.appendChild(docLink);\n",
              "        }\n",
              "      </script>\n",
              "    </div>\n",
              "  </div>\n",
              "  "
            ]
          },
          "metadata": {},
          "execution_count": 6
        }
      ],
      "source": [
        "## Convert into dataframe\n",
        "train = pd.DataFrame()\n",
        "train['image'], train['label'] = load_dataset(TRAIN_DIR)\n",
        "#shuffle the dataset \n",
        "train = train.sample(frac=1).reset_index(drop=True)\n",
        "train.head()"
      ]
    },
    {
      "cell_type": "code",
      "execution_count": null,
      "metadata": {
        "colab": {
          "base_uri": "https://localhost:8080/",
          "height": 333
        },
        "id": "fT0Wejfj-izo",
        "outputId": "a57f0a3b-ad86-46a1-febd-58f1a8df07ac"
      },
      "outputs": [
        {
          "output_type": "stream",
          "name": "stdout",
          "text": [
            "angry completed\n",
            "disgust completed\n",
            "fear completed\n",
            "happy completed\n",
            "neutral completed\n",
            "sad completed\n",
            "surprise completed\n"
          ]
        },
        {
          "output_type": "execute_result",
          "data": {
            "text/plain": [
              "                                               image  label\n",
              "0  /content/drive/MyDrive/Almabetter/Module 7/Cap...  angry\n",
              "1  /content/drive/MyDrive/Almabetter/Module 7/Cap...  angry\n",
              "2  /content/drive/MyDrive/Almabetter/Module 7/Cap...  angry\n",
              "3  /content/drive/MyDrive/Almabetter/Module 7/Cap...  angry\n",
              "4  /content/drive/MyDrive/Almabetter/Module 7/Cap...  angry"
            ],
            "text/html": [
              "\n",
              "  <div id=\"df-a10333c8-4fb9-40e0-ba05-2c3675087851\">\n",
              "    <div class=\"colab-df-container\">\n",
              "      <div>\n",
              "<style scoped>\n",
              "    .dataframe tbody tr th:only-of-type {\n",
              "        vertical-align: middle;\n",
              "    }\n",
              "\n",
              "    .dataframe tbody tr th {\n",
              "        vertical-align: top;\n",
              "    }\n",
              "\n",
              "    .dataframe thead th {\n",
              "        text-align: right;\n",
              "    }\n",
              "</style>\n",
              "<table border=\"1\" class=\"dataframe\">\n",
              "  <thead>\n",
              "    <tr style=\"text-align: right;\">\n",
              "      <th></th>\n",
              "      <th>image</th>\n",
              "      <th>label</th>\n",
              "    </tr>\n",
              "  </thead>\n",
              "  <tbody>\n",
              "    <tr>\n",
              "      <th>0</th>\n",
              "      <td>/content/drive/MyDrive/Almabetter/Module 7/Cap...</td>\n",
              "      <td>angry</td>\n",
              "    </tr>\n",
              "    <tr>\n",
              "      <th>1</th>\n",
              "      <td>/content/drive/MyDrive/Almabetter/Module 7/Cap...</td>\n",
              "      <td>angry</td>\n",
              "    </tr>\n",
              "    <tr>\n",
              "      <th>2</th>\n",
              "      <td>/content/drive/MyDrive/Almabetter/Module 7/Cap...</td>\n",
              "      <td>angry</td>\n",
              "    </tr>\n",
              "    <tr>\n",
              "      <th>3</th>\n",
              "      <td>/content/drive/MyDrive/Almabetter/Module 7/Cap...</td>\n",
              "      <td>angry</td>\n",
              "    </tr>\n",
              "    <tr>\n",
              "      <th>4</th>\n",
              "      <td>/content/drive/MyDrive/Almabetter/Module 7/Cap...</td>\n",
              "      <td>angry</td>\n",
              "    </tr>\n",
              "  </tbody>\n",
              "</table>\n",
              "</div>\n",
              "      <button class=\"colab-df-convert\" onclick=\"convertToInteractive('df-a10333c8-4fb9-40e0-ba05-2c3675087851')\"\n",
              "              title=\"Convert this dataframe to an interactive table.\"\n",
              "              style=\"display:none;\">\n",
              "        \n",
              "  <svg xmlns=\"http://www.w3.org/2000/svg\" height=\"24px\"viewBox=\"0 0 24 24\"\n",
              "       width=\"24px\">\n",
              "    <path d=\"M0 0h24v24H0V0z\" fill=\"none\"/>\n",
              "    <path d=\"M18.56 5.44l.94 2.06.94-2.06 2.06-.94-2.06-.94-.94-2.06-.94 2.06-2.06.94zm-11 1L8.5 8.5l.94-2.06 2.06-.94-2.06-.94L8.5 2.5l-.94 2.06-2.06.94zm10 10l.94 2.06.94-2.06 2.06-.94-2.06-.94-.94-2.06-.94 2.06-2.06.94z\"/><path d=\"M17.41 7.96l-1.37-1.37c-.4-.4-.92-.59-1.43-.59-.52 0-1.04.2-1.43.59L10.3 9.45l-7.72 7.72c-.78.78-.78 2.05 0 2.83L4 21.41c.39.39.9.59 1.41.59.51 0 1.02-.2 1.41-.59l7.78-7.78 2.81-2.81c.8-.78.8-2.07 0-2.86zM5.41 20L4 18.59l7.72-7.72 1.47 1.35L5.41 20z\"/>\n",
              "  </svg>\n",
              "      </button>\n",
              "      \n",
              "  <style>\n",
              "    .colab-df-container {\n",
              "      display:flex;\n",
              "      flex-wrap:wrap;\n",
              "      gap: 12px;\n",
              "    }\n",
              "\n",
              "    .colab-df-convert {\n",
              "      background-color: #E8F0FE;\n",
              "      border: none;\n",
              "      border-radius: 50%;\n",
              "      cursor: pointer;\n",
              "      display: none;\n",
              "      fill: #1967D2;\n",
              "      height: 32px;\n",
              "      padding: 0 0 0 0;\n",
              "      width: 32px;\n",
              "    }\n",
              "\n",
              "    .colab-df-convert:hover {\n",
              "      background-color: #E2EBFA;\n",
              "      box-shadow: 0px 1px 2px rgba(60, 64, 67, 0.3), 0px 1px 3px 1px rgba(60, 64, 67, 0.15);\n",
              "      fill: #174EA6;\n",
              "    }\n",
              "\n",
              "    [theme=dark] .colab-df-convert {\n",
              "      background-color: #3B4455;\n",
              "      fill: #D2E3FC;\n",
              "    }\n",
              "\n",
              "    [theme=dark] .colab-df-convert:hover {\n",
              "      background-color: #434B5C;\n",
              "      box-shadow: 0px 1px 3px 1px rgba(0, 0, 0, 0.15);\n",
              "      filter: drop-shadow(0px 1px 2px rgba(0, 0, 0, 0.3));\n",
              "      fill: #FFFFFF;\n",
              "    }\n",
              "  </style>\n",
              "\n",
              "      <script>\n",
              "        const buttonEl =\n",
              "          document.querySelector('#df-a10333c8-4fb9-40e0-ba05-2c3675087851 button.colab-df-convert');\n",
              "        buttonEl.style.display =\n",
              "          google.colab.kernel.accessAllowed ? 'block' : 'none';\n",
              "\n",
              "        async function convertToInteractive(key) {\n",
              "          const element = document.querySelector('#df-a10333c8-4fb9-40e0-ba05-2c3675087851');\n",
              "          const dataTable =\n",
              "            await google.colab.kernel.invokeFunction('convertToInteractive',\n",
              "                                                     [key], {});\n",
              "          if (!dataTable) return;\n",
              "\n",
              "          const docLinkHtml = 'Like what you see? Visit the ' +\n",
              "            '<a target=\"_blank\" href=https://colab.research.google.com/notebooks/data_table.ipynb>data table notebook</a>'\n",
              "            + ' to learn more about interactive tables.';\n",
              "          element.innerHTML = '';\n",
              "          dataTable['output_type'] = 'display_data';\n",
              "          await google.colab.output.renderOutput(dataTable, element);\n",
              "          const docLink = document.createElement('div');\n",
              "          docLink.innerHTML = docLinkHtml;\n",
              "          element.appendChild(docLink);\n",
              "        }\n",
              "      </script>\n",
              "    </div>\n",
              "  </div>\n",
              "  "
            ]
          },
          "metadata": {},
          "execution_count": 7
        }
      ],
      "source": [
        "test = pd.DataFrame()\n",
        "test['image'], test['label']=load_dataset(TEST_DIR)\n",
        "test.head()\n"
      ]
    },
    {
      "cell_type": "markdown",
      "metadata": {
        "id": "yNySZ1rdII5o"
      },
      "source": [
        "# **EXPLORATORY DATA ANALYSIS**\n"
      ]
    },
    {
      "cell_type": "code",
      "execution_count": null,
      "metadata": {
        "colab": {
          "base_uri": "https://localhost:8080/",
          "height": 297
        },
        "id": "4H42mVZVHu1L",
        "outputId": "f3fef7fc-e2ed-4364-eb45-bd2d6f8d4ec8"
      },
      "outputs": [
        {
          "output_type": "execute_result",
          "data": {
            "text/plain": [
              "<matplotlib.axes._subplots.AxesSubplot at 0x7febbb3af890>"
            ]
          },
          "metadata": {},
          "execution_count": 8
        },
        {
          "output_type": "display_data",
          "data": {
            "text/plain": [
              "<Figure size 432x288 with 1 Axes>"
            ],
            "image/png": "[encoded data removed]"
          },
          "metadata": {
            "needs_background": "light"
          }
        }
      ],
      "source": [
        "sns.countplot(train['label'])"
      ]
    },
    {
      "cell_type": "code",
      "execution_count": null,
      "metadata": {
        "colab": {
          "base_uri": "https://localhost:8080/",
          "height": 267
        },
        "id": "e2YnB-xINm-1",
        "outputId": "ef9111be-8183-444e-e2d5-5788128cc01e"
      },
      "outputs": [
        {
          "output_type": "display_data",
          "data": {
            "text/plain": [
              "<Figure size 432x288 with 1 Axes>"
            ],
            "image/png": "[encoded data removed]"
          },
          "metadata": {
            "needs_background": "light"
          }
        }
      ],
      "source": [
        "from PIL import Image\n",
        "img = Image.open(train['image'][0])\n",
        "plt.imshow(img, cmap = 'gray');"
      ]
    },
    {
      "cell_type": "code",
      "execution_count": null,
      "metadata": {
        "colab": {
          "base_uri": "https://localhost:8080/",
          "height": 1000
        },
        "id": "iujsxDOHR9N8",
        "outputId": "07731313-fd5c-4d4a-b6dd-aed89b9a5f8b"
      },
      "outputs": [
        {
          "output_type": "display_data",
          "data": {
            "text/plain": [
              "<Figure size 1440x1440 with 25 Axes>"
            ],
            "image/png": "[encoded data removed]"
          },
          "metadata": {
            "needs_background": "light"
          }
        }
      ],
      "source": [
        "# to display grid of images\n",
        "plt.figure(figsize=(20,20))\n",
        "files = train.iloc[0:25]\n",
        "\n",
        "for index, file, label in files.itertuples():\n",
        "  plt.subplot(5, 5, index+1)\n",
        "  img = load_img(file)\n",
        "  img = np.array(img)\n",
        "  plt.imshow(img)\n",
        "  plt.title(label)\n",
        "  plt.axis('off')\n",
        "  \n"
      ]
    },
    {
      "cell_type": "markdown",
      "metadata": {
        "id": "1l1SG8SkUrBb"
      },
      "source": [
        "Can you guess which images are related to which expressions?\n",
        "\n",
        "This task is quite easy for a human, but it may be a bit challenging for a predictive algorithm because:\n",
        "\n",
        "* The images have a low resolution\n",
        "* The faces are not in the same position\n",
        "* Some images have text written on them\n",
        "* Some people hide part of their faces with their hands"
      ]
    },
    {
      "cell_type": "markdown",
      "metadata": {
        "id": "ObY1QNr_Tm1A"
      },
      "source": [
        "# **Feature Extraction**"
      ]
    },
    {
      "cell_type": "code",
      "execution_count": null,
      "metadata": {
        "id": "pgUS80HDTrJX"
      },
      "outputs": [],
      "source": [
        "def extract_features(images):\n",
        "  features = []\n",
        "  for image in tqdm(images):\n",
        "    img = load_img(image, grayscale = True)\n",
        "    img = np.array(img)\n",
        "    features.append(img)\n",
        "  features = np.array(features)\n",
        "  features = features.reshape(len(features), 48, 48, 1) \n",
        "  return features "
      ]
    },
    {
      "cell_type": "code",
      "execution_count": null,
      "metadata": {
        "colab": {
          "base_uri": "https://localhost:8080/",
          "height": 49,
          "referenced_widgets": [
            "13db8f99009f474aad6e4ea7aa12b94d",
            "4bb888029e5b4b1f9ef7b9a0159c7024",
            "79d7d2bbb12d42a1be89874abdd4606e",
            "b70ed1bd3b1e432cbe30e5423ea3d9af",
            "1888095c56f74eddbd88b35a9eee6f60",
            "d8760336e81941f0b86f2d61cadd99b1",
            "8683014415e541539654b652217fdab3",
            "716a2e4fb6a34f49a48b5db4e369066f",
            "911f73f5a1434e34a969bee4eee62ff5",
            "05f753041f7645989a02b7669c5630b2",
            "0af3f1600e994830bf358d9fd9bd780a"
          ]
        },
        "id": "A3U262pVXXoO",
        "outputId": "4a8b206a-62ec-4a1a-bb5d-cc6722c53f63"
      },
      "outputs": [
        {
          "output_type": "display_data",
          "data": {
            "text/plain": [
              "  0%|          | 0/28713 [00:00<?, ?it/s]"
            ],
            "application/vnd.jupyter.widget-view+json": {
              "version_major": 2,
              "version_minor": 0,
              "model_id": "13db8f99009f474aad6e4ea7aa12b94d"
            }
          },
          "metadata": {}
        }
      ],
      "source": [
        "train_features = extract_features(train['image'])"
      ]
    },
    {
      "cell_type": "code",
      "execution_count": null,
      "metadata": {
        "colab": {
          "base_uri": "https://localhost:8080/",
          "height": 49,
          "referenced_widgets": [
            "57e0b1b361af4fb5a75375e6f1a76d22",
            "b9ee9285bff14b83aef71a85b8bb134d",
            "f4b9b2d35da04e92a233db2a1c7cb4c2",
            "cb0d548eaacb4287968a0b5d1177f351",
            "3274e05f5b37462ab78fa9ba58ff3f79",
            "c92eaf7d33e549b6a17c6087f0a67368",
            "464c3b5c39b645d7b204db673486dc88",
            "2b6a1a52ba3943f682c56de9696b45f9",
            "a7db050cf21f4b268977a27173b67527",
            "553414fe27a84b13b1d3a64a367505f5",
            "4e01fd68f558447caf11b4b3be03d1be"
          ]
        },
        "id": "sFe9YMECXiku",
        "outputId": "12493935-8ae3-42c0-b19e-3146aad2a0f9"
      },
      "outputs": [
        {
          "output_type": "display_data",
          "data": {
            "text/plain": [
              "  0%|          | 0/7178 [00:00<?, ?it/s]"
            ],
            "application/vnd.jupyter.widget-view+json": {
              "version_major": 2,
              "version_minor": 0,
              "model_id": "57e0b1b361af4fb5a75375e6f1a76d22"
            }
          },
          "metadata": {}
        }
      ],
      "source": [
        "test_features = extract_features(test['image'])"
      ]
    },
    {
      "cell_type": "code",
      "execution_count": null,
      "metadata": {
        "id": "l4w1zMcMX0lL"
      },
      "outputs": [],
      "source": [
        "x_train = train_features/255.0\n",
        "x_test = test_features/255.0"
      ]
    },
    {
      "cell_type": "code",
      "execution_count": null,
      "metadata": {
        "id": "JzXyqjT8YEH0"
      },
      "outputs": [],
      "source": [
        "##conver label to integer\n",
        "from sklearn.preprocessing import LabelEncoder\n",
        "le = LabelEncoder()\n",
        "le.fit(train['label'])\n",
        "y_train = le.transform(train['label'])\n",
        "y_test = le.transform(test['label'])"
      ]
    },
    {
      "cell_type": "code",
      "execution_count": null,
      "metadata": {
        "id": "AWPSzWabZeiJ"
      },
      "outputs": [],
      "source": [
        "y_train = to_categorical(y_train, num_classes=7)\n",
        "y_test = to_categorical(y_test, num_classes=7)"
      ]
    },
    {
      "cell_type": "markdown",
      "metadata": {
        "id": "N7AarVSBU86z"
      },
      "source": [
        "* Deep learning models are trained by being fed with batches of data. Keras has a very useful class to automatically feed data from a directory: ImageDataGenerator.\n",
        "\n",
        "* It can also perform data augmentation while getting the images (randomly rotating the image, zooming, etc.). This method is often used as a way to artificially get more data when the dataset has a small size.\n",
        "\n",
        "* The function flow_from_directory() specifies how the generator should import the images (path, image size, colors, etc.)."
      ]
    },
    {
      "cell_type": "code",
      "execution_count": null,
      "metadata": {
        "colab": {
          "base_uri": "https://localhost:8080/"
        },
        "id": "yEBggIUGZxbq",
        "outputId": "daae5c84-5544-4636-83bc-f5b5ae1d0f9f"
      },
      "outputs": [
        {
          "output_type": "execute_result",
          "data": {
            "text/plain": [
              "array([0., 0., 0., 1., 0., 0., 0.], dtype=float32)"
            ]
          },
          "metadata": {},
          "execution_count": 17
        }
      ],
      "source": [
        "y_train[0]"
      ]
    },
    {
      "cell_type": "code",
      "execution_count": null,
      "metadata": {
        "id": "_sA16bYJYrmY"
      },
      "outputs": [],
      "source": [
        "#config\n",
        "input_shap = (48, 48, 1)\n",
        "output_class = 7"
      ]
    },
    {
      "cell_type": "markdown",
      "metadata": {
        "id": "A9UMRl2tZ3UA"
      },
      "source": [
        "# **Model creation**"
      ]
    },
    {
      "cell_type": "code",
      "execution_count": null,
      "metadata": {
        "id": "z_0t1DkzaBgP"
      },
      "outputs": [],
      "source": [
        "model = Sequential()\n",
        "# convolutional layers\n",
        "\n",
        "model.add(Conv2D(128, kernel_size=(3,3), activation='relu'))\n",
        "model.add(MaxPooling2D(pool_size=(2,2)))\n",
        "model.add(Dropout(0.4))\n",
        "\n",
        "model.add(Conv2D(256, kernel_size=(3,3), activation='relu'))\n",
        "model.add(MaxPooling2D(pool_size=(2,2)))\n",
        "model.add(Dropout(0.4))\n",
        "\n",
        "model.add(Conv2D(512, kernel_size=(3,3), activation='relu'))\n",
        "model.add(MaxPooling2D(pool_size=(2,2)))\n",
        "model.add(Dropout(0.4))\n",
        "\n",
        "model.add(Conv2D(512, kernel_size=(3,3), activation='relu'))\n",
        "model.add(MaxPooling2D(pool_size=(2,2)))\n",
        "model.add(Dropout(0.4))\n",
        "\n",
        "model.add(Flatten())\n",
        "# fully connected layers\n",
        "model.add(Dense(512, activation='relu'))\n",
        "model.add(Dropout(0.4))\n",
        "model.add(Dense(256, activation='relu'))\n",
        "model.add(Dropout(0.3))\n",
        "# output layer\n",
        "model.add(Dense(output_class, activation='softmax'))\n",
        "\n",
        "model.compile(optimizer='adam', loss='categorical_crossentropy', metrics='accuracy')\n"
      ]
    },
    {
      "cell_type": "markdown",
      "metadata": {
        "id": "_K6MEhtKVMl2"
      },
      "source": [
        "We define our CNN with the following global architecture:\n",
        "\n",
        "* 4 convolutional layers\n",
        "* 2 fully connected layers\n",
        "\n",
        "The convolutional layers will extract relevant features from the images and the fully connected layers will focus on using these features to classify well our images. "
      ]
    },
    {
      "cell_type": "markdown",
      "metadata": {
        "id": "GRahqjA2ffwt"
      },
      "source": [
        "# **Train the Model**"
      ]
    },
    {
      "cell_type": "code",
      "execution_count": null,
      "metadata": {
        "colab": {
          "base_uri": "https://localhost:8080/"
        },
        "id": "bXXKBrhuePOI",
        "outputId": "cecd4a3d-a7c8-4658-a17c-31254e79fc2b"
      },
      "outputs": [
        {
          "output_type": "stream",
          "name": "stdout",
          "text": [
            "Epoch 1/100\n",
            "225/225 [==============================] - 24s 107ms/step - loss: 1.8101 - accuracy: 0.2520 - val_loss: 1.7884 - val_accuracy: 0.2542\n",
            "Epoch 2/100\n",
            "225/225 [==============================] - 24s 106ms/step - loss: 1.7640 - accuracy: 0.2701 - val_loss: 1.6844 - val_accuracy: 0.3295\n",
            "Epoch 3/100\n",
            "225/225 [==============================] - 24s 106ms/step - loss: 1.6586 - accuracy: 0.3354 - val_loss: 1.5090 - val_accuracy: 0.4100\n",
            "Epoch 4/100\n",
            "225/225 [==============================] - 25s 110ms/step - loss: 1.5412 - accuracy: 0.3976 - val_loss: 1.4430 - val_accuracy: 0.4312\n",
            "Epoch 5/100\n",
            "225/225 [==============================] - 24s 106ms/step - loss: 1.4734 - accuracy: 0.4304 - val_loss: 1.3615 - val_accuracy: 0.4799\n",
            "Epoch 6/100\n",
            "225/225 [==============================] - 24s 106ms/step - loss: 1.4324 - accuracy: 0.4439 - val_loss: 1.3174 - val_accuracy: 0.4939\n",
            "Epoch 7/100\n",
            "225/225 [==============================] - 25s 110ms/step - loss: 1.3932 - accuracy: 0.4638 - val_loss: 1.2772 - val_accuracy: 0.5086\n",
            "Epoch 8/100\n",
            "225/225 [==============================] - 24s 106ms/step - loss: 1.3662 - accuracy: 0.4765 - val_loss: 1.2478 - val_accuracy: 0.5228\n",
            "Epoch 9/100\n",
            "225/225 [==============================] - 24s 106ms/step - loss: 1.3379 - accuracy: 0.4878 - val_loss: 1.2459 - val_accuracy: 0.5188\n",
            "Epoch 10/100\n",
            "225/225 [==============================] - 24s 106ms/step - loss: 1.3248 - accuracy: 0.4948 - val_loss: 1.2177 - val_accuracy: 0.5298\n",
            "Epoch 11/100\n",
            "225/225 [==============================] - 25s 110ms/step - loss: 1.2960 - accuracy: 0.5046 - val_loss: 1.2013 - val_accuracy: 0.5366\n",
            "Epoch 12/100\n",
            "225/225 [==============================] - 24s 106ms/step - loss: 1.2790 - accuracy: 0.5144 - val_loss: 1.1939 - val_accuracy: 0.5386\n",
            "Epoch 13/100\n",
            "225/225 [==============================] - 24s 106ms/step - loss: 1.2644 - accuracy: 0.5215 - val_loss: 1.1800 - val_accuracy: 0.5440\n",
            "Epoch 14/100\n",
            "225/225 [==============================] - 25s 110ms/step - loss: 1.2500 - accuracy: 0.5256 - val_loss: 1.1634 - val_accuracy: 0.5538\n",
            "Epoch 15/100\n",
            "225/225 [==============================] - 25s 110ms/step - loss: 1.2400 - accuracy: 0.5309 - val_loss: 1.1501 - val_accuracy: 0.5620\n",
            "Epoch 16/100\n",
            "225/225 [==============================] - 25s 110ms/step - loss: 1.2193 - accuracy: 0.5393 - val_loss: 1.1338 - val_accuracy: 0.5635\n",
            "Epoch 17/100\n",
            "225/225 [==============================] - 25s 110ms/step - loss: 1.2092 - accuracy: 0.5402 - val_loss: 1.1355 - val_accuracy: 0.5663\n",
            "Epoch 18/100\n",
            "225/225 [==============================] - 24s 106ms/step - loss: 1.2032 - accuracy: 0.5431 - val_loss: 1.1272 - val_accuracy: 0.5694\n",
            "Epoch 19/100\n",
            "225/225 [==============================] - 24s 106ms/step - loss: 1.1912 - accuracy: 0.5505 - val_loss: 1.1212 - val_accuracy: 0.5777\n",
            "Epoch 20/100\n",
            "225/225 [==============================] - 24s 106ms/step - loss: 1.1810 - accuracy: 0.5514 - val_loss: 1.1062 - val_accuracy: 0.5793\n",
            "Epoch 21/100\n",
            "225/225 [==============================] - 25s 110ms/step - loss: 1.1662 - accuracy: 0.5574 - val_loss: 1.1006 - val_accuracy: 0.5768\n",
            "Epoch 22/100\n",
            "225/225 [==============================] - 25s 110ms/step - loss: 1.1639 - accuracy: 0.5611 - val_loss: 1.1029 - val_accuracy: 0.5766\n",
            "Epoch 23/100\n",
            "225/225 [==============================] - 24s 106ms/step - loss: 1.1522 - accuracy: 0.5633 - val_loss: 1.0947 - val_accuracy: 0.5869\n",
            "Epoch 24/100\n",
            "225/225 [==============================] - 24s 106ms/step - loss: 1.1417 - accuracy: 0.5642 - val_loss: 1.0865 - val_accuracy: 0.5890\n",
            "Epoch 25/100\n",
            "225/225 [==============================] - 24s 106ms/step - loss: 1.1385 - accuracy: 0.5686 - val_loss: 1.0925 - val_accuracy: 0.5841\n",
            "Epoch 26/100\n",
            "225/225 [==============================] - 24s 106ms/step - loss: 1.1328 - accuracy: 0.5724 - val_loss: 1.0837 - val_accuracy: 0.5952\n",
            "Epoch 27/100\n",
            "225/225 [==============================] - 25s 110ms/step - loss: 1.1248 - accuracy: 0.5729 - val_loss: 1.0800 - val_accuracy: 0.5936\n",
            "Epoch 28/100\n",
            "225/225 [==============================] - 25s 110ms/step - loss: 1.1151 - accuracy: 0.5758 - val_loss: 1.0821 - val_accuracy: 0.5874\n",
            "Epoch 29/100\n",
            "225/225 [==============================] - 24s 106ms/step - loss: 1.1045 - accuracy: 0.5852 - val_loss: 1.0901 - val_accuracy: 0.5843\n",
            "Epoch 30/100\n",
            "225/225 [==============================] - 24s 106ms/step - loss: 1.1020 - accuracy: 0.5835 - val_loss: 1.0684 - val_accuracy: 0.5974\n",
            "Epoch 31/100\n",
            "225/225 [==============================] - 25s 110ms/step - loss: 1.0979 - accuracy: 0.5850 - val_loss: 1.0730 - val_accuracy: 0.5921\n",
            "Epoch 32/100\n",
            "225/225 [==============================] - 24s 106ms/step - loss: 1.0911 - accuracy: 0.5883 - val_loss: 1.0709 - val_accuracy: 0.5928\n",
            "Epoch 33/100\n",
            "225/225 [==============================] - 24s 106ms/step - loss: 1.0836 - accuracy: 0.5930 - val_loss: 1.0740 - val_accuracy: 0.5940\n",
            "Epoch 34/100\n",
            "225/225 [==============================] - 24s 107ms/step - loss: 1.0830 - accuracy: 0.5888 - val_loss: 1.0624 - val_accuracy: 0.6000\n",
            "Epoch 35/100\n",
            "225/225 [==============================] - 24s 107ms/step - loss: 1.0674 - accuracy: 0.5978 - val_loss: 1.0625 - val_accuracy: 0.6028\n",
            "Epoch 36/100\n",
            "225/225 [==============================] - 24s 106ms/step - loss: 1.0643 - accuracy: 0.6019 - val_loss: 1.0571 - val_accuracy: 0.6049\n",
            "Epoch 37/100\n",
            "225/225 [==============================] - 25s 110ms/step - loss: 1.0509 - accuracy: 0.6025 - val_loss: 1.0589 - val_accuracy: 0.5986\n",
            "Epoch 38/100\n",
            "225/225 [==============================] - 24s 106ms/step - loss: 1.0524 - accuracy: 0.6019 - val_loss: 1.0537 - val_accuracy: 0.6031\n",
            "Epoch 39/100\n",
            "225/225 [==============================] - 24s 107ms/step - loss: 1.0484 - accuracy: 0.6046 - val_loss: 1.0497 - val_accuracy: 0.6027\n",
            "Epoch 40/100\n",
            "225/225 [==============================] - 24s 106ms/step - loss: 1.0384 - accuracy: 0.6094 - val_loss: 1.0490 - val_accuracy: 0.6077\n",
            "Epoch 41/100\n",
            "225/225 [==============================] - 25s 110ms/step - loss: 1.0291 - accuracy: 0.6104 - val_loss: 1.0516 - val_accuracy: 0.6055\n",
            "Epoch 42/100\n",
            "225/225 [==============================] - 24s 106ms/step - loss: 1.0315 - accuracy: 0.6132 - val_loss: 1.0487 - val_accuracy: 0.6069\n",
            "Epoch 43/100\n",
            "225/225 [==============================] - 24s 107ms/step - loss: 1.0296 - accuracy: 0.6151 - val_loss: 1.0409 - val_accuracy: 0.6082\n",
            "Epoch 44/100\n",
            "225/225 [==============================] - 25s 110ms/step - loss: 1.0240 - accuracy: 0.6167 - val_loss: 1.0551 - val_accuracy: 0.6095\n",
            "Epoch 45/100\n",
            "225/225 [==============================] - 24s 106ms/step - loss: 1.0116 - accuracy: 0.6192 - val_loss: 1.0435 - val_accuracy: 0.6076\n",
            "Epoch 46/100\n",
            "225/225 [==============================] - 25s 110ms/step - loss: 1.0142 - accuracy: 0.6203 - val_loss: 1.0425 - val_accuracy: 0.6116\n",
            "Epoch 47/100\n",
            "225/225 [==============================] - 24s 107ms/step - loss: 1.0078 - accuracy: 0.6214 - val_loss: 1.0373 - val_accuracy: 0.6176\n",
            "Epoch 48/100\n",
            "225/225 [==============================] - 24s 106ms/step - loss: 0.9960 - accuracy: 0.6230 - val_loss: 1.0341 - val_accuracy: 0.6112\n",
            "Epoch 49/100\n",
            "225/225 [==============================] - 25s 110ms/step - loss: 0.9929 - accuracy: 0.6244 - val_loss: 1.0386 - val_accuracy: 0.6102\n",
            "Epoch 50/100\n",
            "225/225 [==============================] - 24s 106ms/step - loss: 0.9878 - accuracy: 0.6288 - val_loss: 1.0455 - val_accuracy: 0.6091\n",
            "Epoch 51/100\n",
            "225/225 [==============================] - 24s 106ms/step - loss: 0.9862 - accuracy: 0.6302 - val_loss: 1.0338 - val_accuracy: 0.6151\n",
            "Epoch 52/100\n",
            "225/225 [==============================] - 24s 106ms/step - loss: 0.9812 - accuracy: 0.6334 - val_loss: 1.0371 - val_accuracy: 0.6134\n",
            "Epoch 53/100\n",
            "225/225 [==============================] - 24s 106ms/step - loss: 0.9772 - accuracy: 0.6325 - val_loss: 1.0422 - val_accuracy: 0.6077\n",
            "Epoch 54/100\n",
            "225/225 [==============================] - 24s 106ms/step - loss: 0.9704 - accuracy: 0.6351 - val_loss: 1.0403 - val_accuracy: 0.6134\n",
            "Epoch 55/100\n",
            "225/225 [==============================] - 24s 107ms/step - loss: 0.9614 - accuracy: 0.6419 - val_loss: 1.0270 - val_accuracy: 0.6134\n",
            "Epoch 56/100\n",
            "225/225 [==============================] - 24s 107ms/step - loss: 0.9643 - accuracy: 0.6380 - val_loss: 1.0329 - val_accuracy: 0.6172\n",
            "Epoch 57/100\n",
            "225/225 [==============================] - 24s 107ms/step - loss: 0.9644 - accuracy: 0.6426 - val_loss: 1.0501 - val_accuracy: 0.6073\n",
            "Epoch 58/100\n",
            "225/225 [==============================] - 24s 106ms/step - loss: 0.9549 - accuracy: 0.6434 - val_loss: 1.0281 - val_accuracy: 0.6173\n",
            "Epoch 59/100\n",
            "225/225 [==============================] - 24s 106ms/step - loss: 0.9461 - accuracy: 0.6439 - val_loss: 1.0358 - val_accuracy: 0.6155\n",
            "Epoch 60/100\n",
            "225/225 [==============================] - 24s 106ms/step - loss: 0.9453 - accuracy: 0.6467 - val_loss: 1.0214 - val_accuracy: 0.6206\n",
            "Epoch 61/100\n",
            "225/225 [==============================] - 24s 106ms/step - loss: 0.9426 - accuracy: 0.6494 - val_loss: 1.0291 - val_accuracy: 0.6137\n",
            "Epoch 62/100\n",
            "225/225 [==============================] - 24s 106ms/step - loss: 0.9302 - accuracy: 0.6570 - val_loss: 1.0239 - val_accuracy: 0.6167\n",
            "Epoch 63/100\n",
            "225/225 [==============================] - 25s 110ms/step - loss: 0.9308 - accuracy: 0.6525 - val_loss: 1.0305 - val_accuracy: 0.6195\n",
            "Epoch 64/100\n",
            "225/225 [==============================] - 24s 106ms/step - loss: 0.9274 - accuracy: 0.6560 - val_loss: 1.0265 - val_accuracy: 0.6234\n",
            "Epoch 65/100\n",
            "225/225 [==============================] - 24s 106ms/step - loss: 0.9202 - accuracy: 0.6551 - val_loss: 1.0185 - val_accuracy: 0.6237\n",
            "Epoch 66/100\n",
            "225/225 [==============================] - 25s 110ms/step - loss: 0.9144 - accuracy: 0.6592 - val_loss: 1.0217 - val_accuracy: 0.6172\n",
            "Epoch 67/100\n",
            "225/225 [==============================] - 24s 107ms/step - loss: 0.9067 - accuracy: 0.6630 - val_loss: 1.0220 - val_accuracy: 0.6201\n",
            "Epoch 68/100\n",
            "225/225 [==============================] - 24s 107ms/step - loss: 0.9164 - accuracy: 0.6594 - val_loss: 1.0295 - val_accuracy: 0.6170\n",
            "Epoch 69/100\n",
            "225/225 [==============================] - 25s 110ms/step - loss: 0.9092 - accuracy: 0.6637 - val_loss: 1.0359 - val_accuracy: 0.6194\n",
            "Epoch 70/100\n",
            "225/225 [==============================] - 25s 110ms/step - loss: 0.8969 - accuracy: 0.6654 - val_loss: 1.0225 - val_accuracy: 0.6223\n",
            "Epoch 71/100\n",
            "225/225 [==============================] - 24s 107ms/step - loss: 0.8995 - accuracy: 0.6679 - val_loss: 1.0246 - val_accuracy: 0.6255\n",
            "Epoch 72/100\n",
            "225/225 [==============================] - 25s 110ms/step - loss: 0.8920 - accuracy: 0.6677 - val_loss: 1.0242 - val_accuracy: 0.6248\n",
            "Epoch 73/100\n",
            "225/225 [==============================] - 24s 107ms/step - loss: 0.8833 - accuracy: 0.6730 - val_loss: 1.0100 - val_accuracy: 0.6255\n",
            "Epoch 74/100\n",
            "225/225 [==============================] - 24s 107ms/step - loss: 0.8855 - accuracy: 0.6701 - val_loss: 1.0239 - val_accuracy: 0.6252\n",
            "Epoch 75/100\n",
            "225/225 [==============================] - 24s 107ms/step - loss: 0.8803 - accuracy: 0.6723 - val_loss: 1.0228 - val_accuracy: 0.6268\n",
            "Epoch 76/100\n",
            "225/225 [==============================] - 24s 107ms/step - loss: 0.8758 - accuracy: 0.6743 - val_loss: 1.0172 - val_accuracy: 0.6275\n",
            "Epoch 77/100\n",
            "225/225 [==============================] - 24s 106ms/step - loss: 0.8761 - accuracy: 0.6751 - val_loss: 1.0232 - val_accuracy: 0.6220\n",
            "Epoch 78/100\n",
            "225/225 [==============================] - 25s 110ms/step - loss: 0.8676 - accuracy: 0.6816 - val_loss: 1.0113 - val_accuracy: 0.6301\n",
            "Epoch 79/100\n",
            "225/225 [==============================] - 24s 106ms/step - loss: 0.8684 - accuracy: 0.6782 - val_loss: 1.0129 - val_accuracy: 0.6315\n",
            "Epoch 80/100\n",
            "225/225 [==============================] - 24s 107ms/step - loss: 0.8605 - accuracy: 0.6835 - val_loss: 1.0172 - val_accuracy: 0.6266\n",
            "Epoch 81/100\n",
            "225/225 [==============================] - 24s 107ms/step - loss: 0.8547 - accuracy: 0.6857 - val_loss: 1.0218 - val_accuracy: 0.6314\n",
            "Epoch 82/100\n",
            "225/225 [==============================] - 24s 107ms/step - loss: 0.8546 - accuracy: 0.6880 - val_loss: 1.0312 - val_accuracy: 0.6213\n",
            "Epoch 83/100\n",
            "225/225 [==============================] - 24s 107ms/step - loss: 0.8374 - accuracy: 0.6888 - val_loss: 1.0314 - val_accuracy: 0.6279\n",
            "Epoch 84/100\n",
            "225/225 [==============================] - 25s 110ms/step - loss: 0.8441 - accuracy: 0.6871 - val_loss: 1.0134 - val_accuracy: 0.6293\n",
            "Epoch 85/100\n",
            "225/225 [==============================] - 24s 107ms/step - loss: 0.8436 - accuracy: 0.6890 - val_loss: 1.0309 - val_accuracy: 0.6216\n",
            "Epoch 86/100\n",
            "225/225 [==============================] - 24s 107ms/step - loss: 0.8354 - accuracy: 0.6937 - val_loss: 1.0169 - val_accuracy: 0.6278\n",
            "Epoch 87/100\n",
            "225/225 [==============================] - 24s 107ms/step - loss: 0.8375 - accuracy: 0.6913 - val_loss: 1.0334 - val_accuracy: 0.6258\n",
            "Epoch 88/100\n",
            "225/225 [==============================] - 25s 110ms/step - loss: 0.8307 - accuracy: 0.6954 - val_loss: 1.0257 - val_accuracy: 0.6248\n",
            "Epoch 89/100\n",
            "225/225 [==============================] - 24s 106ms/step - loss: 0.8291 - accuracy: 0.6930 - val_loss: 1.0246 - val_accuracy: 0.6255\n",
            "Epoch 90/100\n",
            "225/225 [==============================] - 24s 107ms/step - loss: 0.8237 - accuracy: 0.6984 - val_loss: 1.0192 - val_accuracy: 0.6315\n",
            "Epoch 91/100\n",
            "225/225 [==============================] - 24s 107ms/step - loss: 0.8176 - accuracy: 0.7013 - val_loss: 1.0201 - val_accuracy: 0.6275\n",
            "Epoch 92/100\n",
            "225/225 [==============================] - 25s 110ms/step - loss: 0.8128 - accuracy: 0.6991 - val_loss: 1.0203 - val_accuracy: 0.6266\n",
            "Epoch 93/100\n",
            "225/225 [==============================] - 24s 107ms/step - loss: 0.8090 - accuracy: 0.7049 - val_loss: 1.0283 - val_accuracy: 0.6279\n",
            "Epoch 94/100\n",
            "225/225 [==============================] - 24s 107ms/step - loss: 0.8129 - accuracy: 0.7022 - val_loss: 1.0205 - val_accuracy: 0.6280\n",
            "Epoch 95/100\n",
            "225/225 [==============================] - 24s 107ms/step - loss: 0.8148 - accuracy: 0.7016 - val_loss: 1.0185 - val_accuracy: 0.6280\n",
            "Epoch 96/100\n",
            "225/225 [==============================] - 24s 107ms/step - loss: 0.7963 - accuracy: 0.7089 - val_loss: 1.0212 - val_accuracy: 0.6293\n",
            "Epoch 97/100\n",
            "225/225 [==============================] - 25s 111ms/step - loss: 0.8018 - accuracy: 0.7057 - val_loss: 1.0271 - val_accuracy: 0.6301\n",
            "Epoch 98/100\n",
            "225/225 [==============================] - 24s 107ms/step - loss: 0.7938 - accuracy: 0.7086 - val_loss: 1.0253 - val_accuracy: 0.6322\n",
            "Epoch 99/100\n",
            "225/225 [==============================] - 24s 107ms/step - loss: 0.7903 - accuracy: 0.7085 - val_loss: 1.0225 - val_accuracy: 0.6321\n",
            "Epoch 100/100\n",
            "225/225 [==============================] - 24s 107ms/step - loss: 0.7948 - accuracy: 0.7072 - val_loss: 1.0226 - val_accuracy: 0.6283\n"
          ]
        }
      ],
      "source": [
        "# train the model\n",
        "history = model.fit(x=x_train, y=y_train, batch_size=128, epochs=100, validation_data=(x_test, y_test))"
      ]
    },
    {
      "cell_type": "markdown",
      "metadata": {
        "id": "rm2sMcl9WtDT"
      },
      "source": [
        "Our best model managed to obtain a validation accuracy of approximately 65%, which is quite good given the fact that our target class has 7 possible values!\n",
        "\n",
        "At each epoch, Keras checks if our model performed better than during the previous epochs. If it is the case, the new best model weights are saved into a file. This will allow us to load directly the weights of our model without having to re-train it if we want to use it."
      ]
    },
    {
      "cell_type": "markdown",
      "metadata": {
        "id": "0vABQ_uChVsc"
      },
      "source": [
        "# **plot the Results**"
      ]
    },
    {
      "cell_type": "code",
      "execution_count": null,
      "metadata": {
        "id": "EyyXFYB_eq4r",
        "colab": {
          "base_uri": "https://localhost:8080/",
          "height": 545
        },
        "outputId": "b2a8a63c-d520-4cd4-f6bf-381b7974efd9"
      },
      "outputs": [
        {
          "output_type": "display_data",
          "data": {
            "text/plain": [
              "<Figure size 432x288 with 1 Axes>"
            ],
            "image/png": "[encoded data removed]"
          },
          "metadata": {
            "needs_background": "light"
          }
        },
        {
          "output_type": "display_data",
          "data": {
            "text/plain": [
              "<Figure size 432x288 with 1 Axes>"
            ],
            "image/png": "[encoded data removed]"
          },
          "metadata": {
            "needs_background": "light"
          }
        }
      ],
      "source": [
        "acc = history.history['accuracy']\n",
        "val_acc = history.history['val_accuracy']\n",
        "epochs = range(len(acc))\n",
        "\n",
        "plt.plot(epochs, acc, 'b', label='Training Accuracy')\n",
        "plt.plot(epochs, val_acc, 'r', label='Validation Accuracy')\n",
        "plt.title('Accuracy Graph')\n",
        "plt.legend()\n",
        "plt.figure()\n",
        "\n",
        "loss = history.history['loss']\n",
        "val_loss = history.history['val_loss']\n",
        "epochs = range(len(acc))\n",
        "\n",
        "plt.plot(epochs, loss, 'b', label='Training loss')\n",
        "plt.plot(epochs, val_loss, 'r', label='Validation loss')\n",
        "plt.title('Accuracy Graph')\n",
        "plt.legend()\n",
        "\n",
        "plt.show()"
      ]
    },
    {
      "cell_type": "markdown",
      "metadata": {
        "id": "8fIacqCiXKQ7"
      },
      "source": [
        "* The training loss is slightly higher than the validation loss for the first epochs which can be surprising. Indeed we are more used to see higher validation losses than training losses in machine learning. Here this is simply due to the presence of dropout, which is only applied during the training phase and not during the validation phase.\n",
        "\n",
        "* We can see that the training loss is becoming much smaller than the validation loss after the 20th epochs. This means that our model starts to overfit our training dataset after too much iterations. That is why the validation loss does not decrease a lot after. One solution consists in early-stopping the training of the model.\n",
        "\n",
        "* We could also use some different dropout values and performing data augmentation. Those methods were tested on this dataset, but they did not significantly increase the validation accuracy although they reduced the overfitting effect. Using them slightly increased the training duration of the model."
      ]
    },
    {
      "cell_type": "markdown",
      "metadata": {
        "id": "0k440D4LhHjJ"
      },
      "source": [
        "# **Test with image data**"
      ]
    },
    {
      "cell_type": "code",
      "execution_count": null,
      "metadata": {
        "id": "4HVZNe3ShMBh",
        "colab": {
          "base_uri": "https://localhost:8080/",
          "height": 303
        },
        "outputId": "17892ee9-5e5c-4cb2-83a6-e9ca06d8b54e"
      },
      "outputs": [
        {
          "output_type": "stream",
          "name": "stdout",
          "text": [
            "Original Output: sad\n",
            "Predicted Output: sad\n"
          ]
        },
        {
          "output_type": "display_data",
          "data": {
            "text/plain": [
              "<Figure size 432x288 with 1 Axes>"
            ],
            "image/png": "[encoded data removed]"
          },
          "metadata": {
            "needs_background": "light"
          }
        }
      ],
      "source": [
        "image_index = random.randint(0, len(test))\n",
        "print('Original Output:', test['label'][image_index])\n",
        "pred = model.predict(x_test[image_index].reshape(1, 48, 48, 1))\n",
        "prediction_label = le.inverse_transform([pred.argmax()])[0]\n",
        "print('Predicted Output:', prediction_label)\n",
        "plt.imshow(x_test[image_index].reshape(48, 48), cmap='gray');\n",
        "\n"
      ]
    }
  ],
  "metadata": {
    "accelerator": "GPU",
    "colab": {
      "collapsed_sections": [],
      "name": "Face Emotion Recognition.ipynb",
      "provenance": [],
      "mount_file_id": "1JunZ1W7uT_cidwIVT2bjeJ-VP12KeAaz",
      "authorship_tag": "ABX9TyNE6VvtOvyrOmWhGErNcZkj",
      "include_colab_link": true
    },
    "kernelspec": {
      "display_name": "Python 3",
      "name": "python3"
    },
    "language_info": {
      "name": "python"
    },
    "widgets": {
      "application/vnd.jupyter.widget-state+json": {
        "13db8f99009f474aad6e4ea7aa12b94d": {
          "model_module": "@jupyter-widgets/controls",
          "model_name": "HBoxModel",
          "model_module_version": "1.5.0",
          "state": {
            "_dom_classes": [],
            "_model_module": "@jupyter-widgets/controls",
            "_model_module_version": "1.5.0",
            "_model_name": "HBoxModel",
            "_view_count": null,
            "_view_module": "@jupyter-widgets/controls",
            "_view_module_version": "1.5.0",
            "_view_name": "HBoxView",
            "box_style": "",
            "children": [
              "IPY_MODEL_4bb888029e5b4b1f9ef7b9a0159c7024",
              "IPY_MODEL_79d7d2bbb12d42a1be89874abdd4606e",
              "IPY_MODEL_b70ed1bd3b1e432cbe30e5423ea3d9af"
            ],
            "layout": "IPY_MODEL_1888095c56f74eddbd88b35a9eee6f60"
          }
        },
        "4bb888029e5b4b1f9ef7b9a0159c7024": {
          "model_module": "@jupyter-widgets/controls",
          "model_name": "HTMLModel",
          "model_module_version": "1.5.0",
          "state": {
            "_dom_classes": [],
            "_model_module": "@jupyter-widgets/controls",
            "_model_module_version": "1.5.0",
            "_model_name": "HTMLModel",
            "_view_count": null,
            "_view_module": "@jupyter-widgets/controls",
            "_view_module_version": "1.5.0",
            "_view_name": "HTMLView",
            "description": "",
            "description_tooltip": null,
            "layout": "IPY_MODEL_d8760336e81941f0b86f2d61cadd99b1",
            "placeholder": "​",
            "style": "IPY_MODEL_8683014415e541539654b652217fdab3",
            "value": "100%"
          }
        },
        "79d7d2bbb12d42a1be89874abdd4606e": {
          "model_module": "@jupyter-widgets/controls",
          "model_name": "FloatProgressModel",
          "model_module_version": "1.5.0",
          "state": {
            "_dom_classes": [],
            "_model_module": "@jupyter-widgets/controls",
            "_model_module_version": "1.5.0",
            "_model_name": "FloatProgressModel",
            "_view_count": null,
            "_view_module": "@jupyter-widgets/controls",
            "_view_module_version": "1.5.0",
            "_view_name": "ProgressView",
            "bar_style": "success",
            "description": "",
            "description_tooltip": null,
            "layout": "IPY_MODEL_716a2e4fb6a34f49a48b5db4e369066f",
            "max": 28713,
            "min": 0,
            "orientation": "horizontal",
            "style": "IPY_MODEL_911f73f5a1434e34a969bee4eee62ff5",
            "value": 28713
          }
        },
        "b70ed1bd3b1e432cbe30e5423ea3d9af": {
          "model_module": "@jupyter-widgets/controls",
          "model_name": "HTMLModel",
          "model_module_version": "1.5.0",
          "state": {
            "_dom_classes": [],
            "_model_module": "@jupyter-widgets/controls",
            "_model_module_version": "1.5.0",
            "_model_name": "HTMLModel",
            "_view_count": null,
            "_view_module": "@jupyter-widgets/controls",
            "_view_module_version": "1.5.0",
            "_view_name": "HTMLView",
            "description": "",
            "description_tooltip": null,
            "layout": "IPY_MODEL_05f753041f7645989a02b7669c5630b2",
            "placeholder": "​",
            "style": "IPY_MODEL_0af3f1600e994830bf358d9fd9bd780a",
            "value": " 28713/28713 [1:24:19&lt;00:00,  5.03it/s]"
          }
        },
        "1888095c56f74eddbd88b35a9eee6f60": {
          "model_module": "@jupyter-widgets/base",
          "model_name": "LayoutModel",
          "model_module_version": "1.2.0",
          "state": {
            "_model_module": "@jupyter-widgets/base",
            "_model_module_version": "1.2.0",
            "_model_name": "LayoutModel",
            "_view_count": null,
            "_view_module": "@jupyter-widgets/base",
            "_view_module_version": "1.2.0",
            "_view_name": "LayoutView",
            "align_content": null,
            "align_items": null,
            "align_self": null,
            "border": null,
            "bottom": null,
            "display": null,
            "flex": null,
            "flex_flow": null,
            "grid_area": null,
            "grid_auto_columns": null,
            "grid_auto_flow": null,
            "grid_auto_rows": null,
            "grid_column": null,
            "grid_gap": null,
            "grid_row": null,
            "grid_template_areas": null,
            "grid_template_columns": null,
            "grid_template_rows": null,
            "height": null,
            "justify_content": null,
            "justify_items": null,
            "left": null,
            "margin": null,
            "max_height": null,
            "max_width": null,
            "min_height": null,
            "min_width": null,
            "object_fit": null,
            "object_position": null,
            "order": null,
            "overflow": null,
            "overflow_x": null,
            "overflow_y": null,
            "padding": null,
            "right": null,
            "top": null,
            "visibility": null,
            "width": null
          }
        },
        "d8760336e81941f0b86f2d61cadd99b1": {
          "model_module": "@jupyter-widgets/base",
          "model_name": "LayoutModel",
          "model_module_version": "1.2.0",
          "state": {
            "_model_module": "@jupyter-widgets/base",
            "_model_module_version": "1.2.0",
            "_model_name": "LayoutModel",
            "_view_count": null,
            "_view_module": "@jupyter-widgets/base",
            "_view_module_version": "1.2.0",
            "_view_name": "LayoutView",
            "align_content": null,
            "align_items": null,
            "align_self": null,
            "border": null,
            "bottom": null,
            "display": null,
            "flex": null,
            "flex_flow": null,
            "grid_area": null,
            "grid_auto_columns": null,
            "grid_auto_flow": null,
            "grid_auto_rows": null,
            "grid_column": null,
            "grid_gap": null,
            "grid_row": null,
            "grid_template_areas": null,
            "grid_template_columns": null,
            "grid_template_rows": null,
            "height": null,
            "justify_content": null,
            "justify_items": null,
            "left": null,
            "margin": null,
            "max_height": null,
            "max_width": null,
            "min_height": null,
            "min_width": null,
            "object_fit": null,
            "object_position": null,
            "order": null,
            "overflow": null,
            "overflow_x": null,
            "overflow_y": null,
            "padding": null,
            "right": null,
            "top": null,
            "visibility": null,
            "width": null
          }
        },
        "8683014415e541539654b652217fdab3": {
          "model_module": "@jupyter-widgets/controls",
          "model_name": "DescriptionStyleModel",
          "model_module_version": "1.5.0",
          "state": {
            "_model_module": "@jupyter-widgets/controls",
            "_model_module_version": "1.5.0",
            "_model_name": "DescriptionStyleModel",
            "_view_count": null,
            "_view_module": "@jupyter-widgets/base",
            "_view_module_version": "1.2.0",
            "_view_name": "StyleView",
            "description_width": ""
          }
        },
        "716a2e4fb6a34f49a48b5db4e369066f": {
          "model_module": "@jupyter-widgets/base",
          "model_name": "LayoutModel",
          "model_module_version": "1.2.0",
          "state": {
            "_model_module": "@jupyter-widgets/base",
            "_model_module_version": "1.2.0",
            "_model_name": "LayoutModel",
            "_view_count": null,
            "_view_module": "@jupyter-widgets/base",
            "_view_module_version": "1.2.0",
            "_view_name": "LayoutView",
            "align_content": null,
            "align_items": null,
            "align_self": null,
            "border": null,
            "bottom": null,
            "display": null,
            "flex": null,
            "flex_flow": null,
            "grid_area": null,
            "grid_auto_columns": null,
            "grid_auto_flow": null,
            "grid_auto_rows": null,
            "grid_column": null,
            "grid_gap": null,
            "grid_row": null,
            "grid_template_areas": null,
            "grid_template_columns": null,
            "grid_template_rows": null,
            "height": null,
            "justify_content": null,
            "justify_items": null,
            "left": null,
            "margin": null,
            "max_height": null,
            "max_width": null,
            "min_height": null,
            "min_width": null,
            "object_fit": null,
            "object_position": null,
            "order": null,
            "overflow": null,
            "overflow_x": null,
            "overflow_y": null,
            "padding": null,
            "right": null,
            "top": null,
            "visibility": null,
            "width": null
          }
        },
        "911f73f5a1434e34a969bee4eee62ff5": {
          "model_module": "@jupyter-widgets/controls",
          "model_name": "ProgressStyleModel",
          "model_module_version": "1.5.0",
          "state": {
            "_model_module": "@jupyter-widgets/controls",
            "_model_module_version": "1.5.0",
            "_model_name": "ProgressStyleModel",
            "_view_count": null,
            "_view_module": "@jupyter-widgets/base",
            "_view_module_version": "1.2.0",
            "_view_name": "StyleView",
            "bar_color": null,
            "description_width": ""
          }
        },
        "05f753041f7645989a02b7669c5630b2": {
          "model_module": "@jupyter-widgets/base",
          "model_name": "LayoutModel",
          "model_module_version": "1.2.0",
          "state": {
            "_model_module": "@jupyter-widgets/base",
            "_model_module_version": "1.2.0",
            "_model_name": "LayoutModel",
            "_view_count": null,
            "_view_module": "@jupyter-widgets/base",
            "_view_module_version": "1.2.0",
            "_view_name": "LayoutView",
            "align_content": null,
            "align_items": null,
            "align_self": null,
            "border": null,
            "bottom": null,
            "display": null,
            "flex": null,
            "flex_flow": null,
            "grid_area": null,
            "grid_auto_columns": null,
            "grid_auto_flow": null,
            "grid_auto_rows": null,
            "grid_column": null,
            "grid_gap": null,
            "grid_row": null,
            "grid_template_areas": null,
            "grid_template_columns": null,
            "grid_template_rows": null,
            "height": null,
            "justify_content": null,
            "justify_items": null,
            "left": null,
            "margin": null,
            "max_height": null,
            "max_width": null,
            "min_height": null,
            "min_width": null,
            "object_fit": null,
            "object_position": null,
            "order": null,
            "overflow": null,
            "overflow_x": null,
            "overflow_y": null,
            "padding": null,
            "right": null,
            "top": null,
            "visibility": null,
            "width": null
          }
        },
        "0af3f1600e994830bf358d9fd9bd780a": {
          "model_module": "@jupyter-widgets/controls",
          "model_name": "DescriptionStyleModel",
          "model_module_version": "1.5.0",
          "state": {
            "_model_module": "@jupyter-widgets/controls",
            "_model_module_version": "1.5.0",
            "_model_name": "DescriptionStyleModel",
            "_view_count": null,
            "_view_module": "@jupyter-widgets/base",
            "_view_module_version": "1.2.0",
            "_view_name": "StyleView",
            "description_width": ""
          }
        },
        "57e0b1b361af4fb5a75375e6f1a76d22": {
          "model_module": "@jupyter-widgets/controls",
          "model_name": "HBoxModel",
          "model_module_version": "1.5.0",
          "state": {
            "_dom_classes": [],
            "_model_module": "@jupyter-widgets/controls",
            "_model_module_version": "1.5.0",
            "_model_name": "HBoxModel",
            "_view_count": null,
            "_view_module": "@jupyter-widgets/controls",
            "_view_module_version": "1.5.0",
            "_view_name": "HBoxView",
            "box_style": "",
            "children": [
              "IPY_MODEL_b9ee9285bff14b83aef71a85b8bb134d",
              "IPY_MODEL_f4b9b2d35da04e92a233db2a1c7cb4c2",
              "IPY_MODEL_cb0d548eaacb4287968a0b5d1177f351"
            ],
            "layout": "IPY_MODEL_3274e05f5b37462ab78fa9ba58ff3f79"
          }
        },
        "b9ee9285bff14b83aef71a85b8bb134d": {
          "model_module": "@jupyter-widgets/controls",
          "model_name": "HTMLModel",
          "model_module_version": "1.5.0",
          "state": {
            "_dom_classes": [],
            "_model_module": "@jupyter-widgets/controls",
            "_model_module_version": "1.5.0",
            "_model_name": "HTMLModel",
            "_view_count": null,
            "_view_module": "@jupyter-widgets/controls",
            "_view_module_version": "1.5.0",
            "_view_name": "HTMLView",
            "description": "",
            "description_tooltip": null,
            "layout": "IPY_MODEL_c92eaf7d33e549b6a17c6087f0a67368",
            "placeholder": "​",
            "style": "IPY_MODEL_464c3b5c39b645d7b204db673486dc88",
            "value": "100%"
          }
        },
        "f4b9b2d35da04e92a233db2a1c7cb4c2": {
          "model_module": "@jupyter-widgets/controls",
          "model_name": "FloatProgressModel",
          "model_module_version": "1.5.0",
          "state": {
            "_dom_classes": [],
            "_model_module": "@jupyter-widgets/controls",
            "_model_module_version": "1.5.0",
            "_model_name": "FloatProgressModel",
            "_view_count": null,
            "_view_module": "@jupyter-widgets/controls",
            "_view_module_version": "1.5.0",
            "_view_name": "ProgressView",
            "bar_style": "success",
            "description": "",
            "description_tooltip": null,
            "layout": "IPY_MODEL_2b6a1a52ba3943f682c56de9696b45f9",
            "max": 7178,
            "min": 0,
            "orientation": "horizontal",
            "style": "IPY_MODEL_a7db050cf21f4b268977a27173b67527",
            "value": 7178
          }
        },
        "cb0d548eaacb4287968a0b5d1177f351": {
          "model_module": "@jupyter-widgets/controls",
          "model_name": "HTMLModel",
          "model_module_version": "1.5.0",
          "state": {
            "_dom_classes": [],
            "_model_module": "@jupyter-widgets/controls",
            "_model_module_version": "1.5.0",
            "_model_name": "HTMLModel",
            "_view_count": null,
            "_view_module": "@jupyter-widgets/controls",
            "_view_module_version": "1.5.0",
            "_view_name": "HTMLView",
            "description": "",
            "description_tooltip": null,
            "layout": "IPY_MODEL_553414fe27a84b13b1d3a64a367505f5",
            "placeholder": "​",
            "style": "IPY_MODEL_4e01fd68f558447caf11b4b3be03d1be",
            "value": " 7178/7178 [20:56&lt;00:00,  7.36it/s]"
          }
        },
        "3274e05f5b37462ab78fa9ba58ff3f79": {
          "model_module": "@jupyter-widgets/base",
          "model_name": "LayoutModel",
          "model_module_version": "1.2.0",
          "state": {
            "_model_module": "@jupyter-widgets/base",
            "_model_module_version": "1.2.0",
            "_model_name": "LayoutModel",
            "_view_count": null,
            "_view_module": "@jupyter-widgets/base",
            "_view_module_version": "1.2.0",
            "_view_name": "LayoutView",
            "align_content": null,
            "align_items": null,
            "align_self": null,
            "border": null,
            "bottom": null,
            "display": null,
            "flex": null,
            "flex_flow": null,
            "grid_area": null,
            "grid_auto_columns": null,
            "grid_auto_flow": null,
            "grid_auto_rows": null,
            "grid_column": null,
            "grid_gap": null,
            "grid_row": null,
            "grid_template_areas": null,
            "grid_template_columns": null,
            "grid_template_rows": null,
            "height": null,
            "justify_content": null,
            "justify_items": null,
            "left": null,
            "margin": null,
            "max_height": null,
            "max_width": null,
            "min_height": null,
            "min_width": null,
            "object_fit": null,
            "object_position": null,
            "order": null,
            "overflow": null,
            "overflow_x": null,
            "overflow_y": null,
            "padding": null,
            "right": null,
            "top": null,
            "visibility": null,
            "width": null
          }
        },
        "c92eaf7d33e549b6a17c6087f0a67368": {
          "model_module": "@jupyter-widgets/base",
          "model_name": "LayoutModel",
          "model_module_version": "1.2.0",
          "state": {
            "_model_module": "@jupyter-widgets/base",
            "_model_module_version": "1.2.0",
            "_model_name": "LayoutModel",
            "_view_count": null,
            "_view_module": "@jupyter-widgets/base",
            "_view_module_version": "1.2.0",
            "_view_name": "LayoutView",
            "align_content": null,
            "align_items": null,
            "align_self": null,
            "border": null,
            "bottom": null,
            "display": null,
            "flex": null,
            "flex_flow": null,
            "grid_area": null,
            "grid_auto_columns": null,
            "grid_auto_flow": null,
            "grid_auto_rows": null,
            "grid_column": null,
            "grid_gap": null,
            "grid_row": null,
            "grid_template_areas": null,
            "grid_template_columns": null,
            "grid_template_rows": null,
            "height": null,
            "justify_content": null,
            "justify_items": null,
            "left": null,
            "margin": null,
            "max_height": null,
            "max_width": null,
            "min_height": null,
            "min_width": null,
            "object_fit": null,
            "object_position": null,
            "order": null,
            "overflow": null,
            "overflow_x": null,
            "overflow_y": null,
            "padding": null,
            "right": null,
            "top": null,
            "visibility": null,
            "width": null
          }
        },
        "464c3b5c39b645d7b204db673486dc88": {
          "model_module": "@jupyter-widgets/controls",
          "model_name": "DescriptionStyleModel",
          "model_module_version": "1.5.0",
          "state": {
            "_model_module": "@jupyter-widgets/controls",
            "_model_module_version": "1.5.0",
            "_model_name": "DescriptionStyleModel",
            "_view_count": null,
            "_view_module": "@jupyter-widgets/base",
            "_view_module_version": "1.2.0",
            "_view_name": "StyleView",
            "description_width": ""
          }
        },
        "2b6a1a52ba3943f682c56de9696b45f9": {
          "model_module": "@jupyter-widgets/base",
          "model_name": "LayoutModel",
          "model_module_version": "1.2.0",
          "state": {
            "_model_module": "@jupyter-widgets/base",
            "_model_module_version": "1.2.0",
            "_model_name": "LayoutModel",
            "_view_count": null,
            "_view_module": "@jupyter-widgets/base",
            "_view_module_version": "1.2.0",
            "_view_name": "LayoutView",
            "align_content": null,
            "align_items": null,
            "align_self": null,
            "border": null,
            "bottom": null,
            "display": null,
            "flex": null,
            "flex_flow": null,
            "grid_area": null,
            "grid_auto_columns": null,
            "grid_auto_flow": null,
            "grid_auto_rows": null,
            "grid_column": null,
            "grid_gap": null,
            "grid_row": null,
            "grid_template_areas": null,
            "grid_template_columns": null,
            "grid_template_rows": null,
            "height": null,
            "justify_content": null,
            "justify_items": null,
            "left": null,
            "margin": null,
            "max_height": null,
            "max_width": null,
            "min_height": null,
            "min_width": null,
            "object_fit": null,
            "object_position": null,
            "order": null,
            "overflow": null,
            "overflow_x": null,
            "overflow_y": null,
            "padding": null,
            "right": null,
            "top": null,
            "visibility": null,
            "width": null
          }
        },
        "a7db050cf21f4b268977a27173b67527": {
          "model_module": "@jupyter-widgets/controls",
          "model_name": "ProgressStyleModel",
          "model_module_version": "1.5.0",
          "state": {
            "_model_module": "@jupyter-widgets/controls",
            "_model_module_version": "1.5.0",
            "_model_name": "ProgressStyleModel",
            "_view_count": null,
            "_view_module": "@jupyter-widgets/base",
            "_view_module_version": "1.2.0",
            "_view_name": "StyleView",
            "bar_color": null,
            "description_width": ""
          }
        },
        "553414fe27a84b13b1d3a64a367505f5": {
          "model_module": "@jupyter-widgets/base",
          "model_name": "LayoutModel",
          "model_module_version": "1.2.0",
          "state": {
            "_model_module": "@jupyter-widgets/base",
            "_model_module_version": "1.2.0",
            "_model_name": "LayoutModel",
            "_view_count": null,
            "_view_module": "@jupyter-widgets/base",
            "_view_module_version": "1.2.0",
            "_view_name": "LayoutView",
            "align_content": null,
            "align_items": null,
            "align_self": null,
            "border": null,
            "bottom": null,
            "display": null,
            "flex": null,
            "flex_flow": null,
            "grid_area": null,
            "grid_auto_columns": null,
            "grid_auto_flow": null,
            "grid_auto_rows": null,
            "grid_column": null,
            "grid_gap": null,
            "grid_row": null,
            "grid_template_areas": null,
            "grid_template_columns": null,
            "grid_template_rows": null,
            "height": null,
            "justify_content": null,
            "justify_items": null,
            "left": null,
            "margin": null,
            "max_height": null,
            "max_width": null,
            "min_height": null,
            "min_width": null,
            "object_fit": null,
            "object_position": null,
            "order": null,
            "overflow": null,
            "overflow_x": null,
            "overflow_y": null,
            "padding": null,
            "right": null,
            "top": null,
            "visibility": null,
            "width": null
          }
        },
        "4e01fd68f558447caf11b4b3be03d1be": {
          "model_module": "@jupyter-widgets/controls",
          "model_name": "DescriptionStyleModel",
          "model_module_version": "1.5.0",
          "state": {
            "_model_module": "@jupyter-widgets/controls",
            "_model_module_version": "1.5.0",
            "_model_name": "DescriptionStyleModel",
            "_view_count": null,
            "_view_module": "@jupyter-widgets/base",
            "_view_module_version": "1.2.0",
            "_view_name": "StyleView",
            "description_width": ""
          }
        }
      }
    }
  },
  "nbformat": 4,
  "nbformat_minor": 0
}